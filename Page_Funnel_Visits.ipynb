{
  "cells": [
    {
      "cell_type": "markdown",
      "metadata": {
        "id": "view-in-github",
        "colab_type": "text"
      },
      "source": [
        "<a href=\"https://colab.research.google.com/github/jarrydbrennan/Page_Funnel_Visits_Codecademy/blob/main/Page_Funnel_Visits.ipynb\" target=\"_parent\"><img src=\"https://colab.research.google.com/assets/colab-badge.svg\" alt=\"Open In Colab\"/></a>"
      ]
    },
    {
      "cell_type": "code",
      "execution_count": 7,
      "metadata": {
        "id": "wIzS8ga0-CWi"
      },
      "outputs": [],
      "source": [
        "import pandas as pd\n",
        "import os"
      ]
    },
    {
      "cell_type": "markdown",
      "metadata": {
        "id": "kzOTt00d-CWp"
      },
      "source": [
        "Import all the files"
      ]
    },
    {
      "cell_type": "code",
      "source": [
        "from google.colab import drive\n",
        "drive.mount('/content/drive')"
      ],
      "metadata": {
        "colab": {
          "base_uri": "https://localhost:8080/"
        },
        "id": "SjgSz7LZ_WCl",
        "outputId": "64151c87-4e03-4360-e1bb-80a4b6618654"
      },
      "execution_count": 8,
      "outputs": [
        {
          "output_type": "stream",
          "name": "stdout",
          "text": [
            "Drive already mounted at /content/drive; to attempt to forcibly remount, call drive.mount(\"/content/drive\", force_remount=True).\n"
          ]
        }
      ]
    },
    {
      "cell_type": "code",
      "execution_count": 11,
      "metadata": {
        "id": "_2Ajhcjo-CWs"
      },
      "outputs": [],
      "source": [
        "ds_path = '/content/drive/MyDrive/Codecademy/Page_Visits_Funnel_Project'\n",
        "visits = pd.read_csv(os.path.join(ds_path , 'visits.csv'),\n",
        "                     parse_dates=[1])\n",
        "cart = pd.read_csv(os.path.join(ds_path, 'cart.csv'),\n",
        "                   parse_dates=[1])\n",
        "\n",
        "checkout = pd.read_csv(os.path.join(ds_path,'checkout.csv'),\n",
        "                       parse_dates=[1])\n",
        "purchase = pd.read_csv(os.path.join(ds_path,'purchase.csv'),\n",
        "                       parse_dates=[1])"
      ]
    },
    {
      "cell_type": "markdown",
      "metadata": {
        "id": "KULzDrfr-CWt"
      },
      "source": [
        "Step 1: Inspect the DataFrames using `print` and `head`"
      ]
    },
    {
      "cell_type": "code",
      "execution_count": 12,
      "metadata": {
        "colab": {
          "base_uri": "https://localhost:8080/"
        },
        "id": "LTsaJjY--CWu",
        "outputId": "3bf7b3d3-00f4-41fb-a9c0-82b90712d6b7"
      },
      "outputs": [
        {
          "output_type": "stream",
          "name": "stdout",
          "text": [
            "                                user_id          visit_time\n",
            "0  943647ef-3682-4750-a2e1-918ba6f16188 2017-04-07 15:14:00\n",
            "1  0c3a3dd0-fb64-4eac-bf84-ba069ce409f2 2017-01-26 14:24:00\n",
            "2  6e0b2d60-4027-4d9a-babd-0e7d40859fb1 2017-08-20 08:23:00\n",
            "3  6879527e-c5a6-4d14-b2da-50b85212b0ab 2017-11-04 18:15:00\n",
            "4  a84327ff-5daa-4ba1-b789-d5b4caf81e96 2017-02-27 11:25:00\n",
            "                                user_id           cart_time\n",
            "0  2be90e7c-9cca-44e0-bcc5-124b945ff168 2017-11-07 20:45:00\n",
            "1  4397f73f-1da3-4ab3-91af-762792e25973 2017-05-27 01:35:00\n",
            "2  a9db3d4b-0a0a-4398-a55a-ebb2c7adf663 2017-03-04 10:38:00\n",
            "3  b594862a-36c5-47d5-b818-6e9512b939b3 2017-09-27 08:22:00\n",
            "4  a68a16e2-94f0-4ce8-8ce3-784af0bbb974 2017-07-26 15:48:00\n",
            "                                user_id       checkout_time\n",
            "0  d33bdc47-4afa-45bc-b4e4-dbe948e34c0d 2017-06-25 09:29:00\n",
            "1  4ac186f0-9954-4fea-8a27-c081e428e34e 2017-04-07 20:11:00\n",
            "2  3c9c78a7-124a-4b77-8d2e-e1926e011e7d 2017-07-13 11:38:00\n",
            "3  89fe330a-8966-4756-8f7c-3bdbcd47279a 2017-04-20 16:15:00\n",
            "4  3ccdaf69-2d30-40de-b083-51372881aedd 2017-01-08 20:52:00\n",
            "                                user_id       purchase_time\n",
            "0  4b44ace4-2721-47a0-b24b-15fbfa2abf85 2017-05-11 04:25:00\n",
            "1  02e684ae-a448-408f-a9ff-dcb4a5c99aac 2017-09-05 08:45:00\n",
            "2  4b4bc391-749e-4b90-ab8f-4f6e3c84d6dc 2017-11-20 20:49:00\n",
            "3  a5dbb25f-3c36-4103-9030-9f7c6241cd8d 2017-01-22 15:18:00\n",
            "4  46a3186d-7f5a-4ab9-87af-84d05bfd4867 2017-06-11 11:32:00\n"
          ]
        }
      ],
      "source": [
        "print(visits.head(5))\n",
        "print(cart.head(5))\n",
        "print(checkout.head(5))\n",
        "print(purchase.head(5))"
      ]
    },
    {
      "cell_type": "markdown",
      "metadata": {
        "id": "ZmVt70ik-CWw"
      },
      "source": [
        "Step 2: Left merging visits and cart"
      ]
    },
    {
      "cell_type": "code",
      "execution_count": 121,
      "metadata": {
        "colab": {
          "base_uri": "https://localhost:8080/"
        },
        "id": "xaFlfjc6-CWx",
        "outputId": "f32d7f85-3fb4-407a-9901-184a31f873ef"
      },
      "outputs": [
        {
          "output_type": "stream",
          "name": "stdout",
          "text": [
            "                                user_id          visit_time  \\\n",
            "0  943647ef-3682-4750-a2e1-918ba6f16188 2017-04-07 15:14:00   \n",
            "1  0c3a3dd0-fb64-4eac-bf84-ba069ce409f2 2017-01-26 14:24:00   \n",
            "2  6e0b2d60-4027-4d9a-babd-0e7d40859fb1 2017-08-20 08:23:00   \n",
            "3  6879527e-c5a6-4d14-b2da-50b85212b0ab 2017-11-04 18:15:00   \n",
            "4  a84327ff-5daa-4ba1-b789-d5b4caf81e96 2017-02-27 11:25:00   \n",
            "\n",
            "            cart_time  \n",
            "0                 NaT  \n",
            "1 2017-01-26 14:44:00  \n",
            "2 2017-08-20 08:31:00  \n",
            "3                 NaT  \n",
            "4                 NaT  \n",
            "2000\n"
          ]
        }
      ],
      "source": [
        "visits_carts = visits.merge(cart, how='left')\n",
        "print(visits_carts.head())\n",
        "print(len(visits_carts))"
      ]
    },
    {
      "cell_type": "markdown",
      "metadata": {
        "id": "oTJqJLVl-CWx"
      },
      "source": [
        "Step 3: How long is `visits_cart`?"
      ]
    },
    {
      "cell_type": "code",
      "execution_count": 114,
      "metadata": {
        "colab": {
          "base_uri": "https://localhost:8080/"
        },
        "id": "eSOMoRkE-CWy",
        "outputId": "af27ca50-0e60-422c-b461-f211ecabbe9f"
      },
      "outputs": [
        {
          "output_type": "stream",
          "name": "stdout",
          "text": [
            "2000\n"
          ]
        }
      ],
      "source": [
        "#visits_carts.user_id.count()\n",
        "total_visits = len(visits_carts)\n",
        "print(len(visits_carts))"
      ]
    },
    {
      "cell_type": "markdown",
      "metadata": {
        "id": "4UeBrefP-CWy"
      },
      "source": [
        "Step 4: How many timestamps are null for `cart_time`?"
      ]
    },
    {
      "cell_type": "code",
      "execution_count": 117,
      "metadata": {
        "colab": {
          "base_uri": "https://localhost:8080/"
        },
        "id": "HyOFwuS_-CWz",
        "outputId": "102ef3cc-505c-468a-90c3-68245e48d739"
      },
      "outputs": [
        {
          "output_type": "stream",
          "name": "stdout",
          "text": [
            "1652\n"
          ]
        }
      ],
      "source": [
        "#null_carts = visits_carts[visits_carts.cart_time.isnull()].count()\n",
        "null_carts = len(visits_carts[visits_carts.cart_time.isnull()])\n",
        "print(null_carts)"
      ]
    },
    {
      "cell_type": "markdown",
      "metadata": {
        "id": "T9pnyE7o-CWz"
      },
      "source": [
        "Step 5: What percentage only visited?"
      ]
    },
    {
      "cell_type": "code",
      "execution_count": 118,
      "metadata": {
        "colab": {
          "base_uri": "https://localhost:8080/"
        },
        "id": "2qPk8Ewv-CWz",
        "outputId": "40b18fb1-3748-4449-c58d-d87a9a3f182e"
      },
      "outputs": [
        {
          "output_type": "stream",
          "name": "stdout",
          "text": [
            "0.826\n"
          ]
        }
      ],
      "source": [
        "#(visits_carts[visits_carts.cart_time.isnull()].count()) / len(visits_carts)\n",
        "visit_no_cart = float(null_carts) / float(total_visits)\n",
        "print(visit_no_cart)"
      ]
    },
    {
      "cell_type": "markdown",
      "metadata": {
        "id": "PsD8O-LZ-CW0"
      },
      "source": [
        "Step 6: What percentage placed a t-shirt in their cart but did not checkout?"
      ]
    },
    {
      "cell_type": "code",
      "execution_count": 119,
      "metadata": {
        "colab": {
          "base_uri": "https://localhost:8080/"
        },
        "id": "mUjAhEQp-CW0",
        "outputId": "780a75a4-cbd5-4e86-dc0b-37418c8cf497"
      },
      "outputs": [
        {
          "output_type": "stream",
          "name": "stdout",
          "text": [
            "0.3505747126436782\n"
          ]
        }
      ],
      "source": [
        "cart_checkout = cart.merge(checkout, how='left')\n",
        "null_checkout_time = len(cart_checkout[cart_checkout.checkout_time.isnull()])\n",
        "cart_no_checkout = float(null_checkout_time) / float(len(cart))\n",
        "print(cart_no_checkout)"
      ]
    },
    {
      "cell_type": "markdown",
      "metadata": {
        "id": "-HuEC3iZ-CW0"
      },
      "source": [
        "Step 7: Merge it all together"
      ]
    },
    {
      "cell_type": "code",
      "execution_count": 120,
      "metadata": {
        "colab": {
          "base_uri": "https://localhost:8080/"
        },
        "id": "cit8Tuc9-CW1",
        "outputId": "e6cc1ef3-b586-4aa4-b89c-696b4b8eb6ed"
      },
      "outputs": [
        {
          "output_type": "stream",
          "name": "stdout",
          "text": [
            "                                user_id          visit_time  \\\n",
            "0  943647ef-3682-4750-a2e1-918ba6f16188 2017-04-07 15:14:00   \n",
            "1  0c3a3dd0-fb64-4eac-bf84-ba069ce409f2 2017-01-26 14:24:00   \n",
            "2  6e0b2d60-4027-4d9a-babd-0e7d40859fb1 2017-08-20 08:23:00   \n",
            "3  6879527e-c5a6-4d14-b2da-50b85212b0ab 2017-11-04 18:15:00   \n",
            "4  a84327ff-5daa-4ba1-b789-d5b4caf81e96 2017-02-27 11:25:00   \n",
            "\n",
            "            cart_time       checkout_time       purchase_time  \n",
            "0                 NaT                 NaT                 NaT  \n",
            "1 2017-01-26 14:44:00 2017-01-26 14:54:00 2017-01-26 15:08:00  \n",
            "2 2017-08-20 08:31:00                 NaT                 NaT  \n",
            "3                 NaT                 NaT                 NaT  \n",
            "4                 NaT                 NaT                 NaT  \n",
            "2108\n"
          ]
        }
      ],
      "source": [
        "all_df = visits_carts.merge(cart_checkout, how='left').merge(purchase, how='left')\n",
        "print(all_df.head())\n",
        "print(len(all_df))"
      ]
    },
    {
      "cell_type": "markdown",
      "metadata": {
        "id": "MdTZzOnP-CW2"
      },
      "source": [
        "Step 8: % of users who got to checkout but did not purchase"
      ]
    },
    {
      "cell_type": "code",
      "execution_count": 135,
      "metadata": {
        "colab": {
          "base_uri": "https://localhost:8080/"
        },
        "id": "SfvqSp7C-CW2",
        "outputId": "cc50c964-9d24-49d9-c7fa-5ce8a280c7bd"
      },
      "outputs": [
        {
          "output_type": "stream",
          "name": "stdout",
          "text": [
            "% of users who got to checkout but did not purchase: 0.24550898203592814\n"
          ]
        }
      ],
      "source": [
        "reached_checkout = all_df[~all_df.checkout_time.isnull()]\n",
        "checkout_no_purchase = all_df[(all_df.purchase_time.isnull()) & (~all_df.checkout_time.isnull())]\n",
        "percent_no_purchase = float(len(checkout_no_purchase)) / float(len(reached_checkout))\n",
        "print('% of users who got to checkout but did not purchase:', percent_no_purchase)"
      ]
    },
    {
      "cell_type": "markdown",
      "metadata": {
        "id": "_fgrCwAN-CW2"
      },
      "source": [
        "Step 9: check each part of the funnel, let's print all 3 of them again"
      ]
    },
    {
      "cell_type": "code",
      "execution_count": 145,
      "metadata": {
        "colab": {
          "base_uri": "https://localhost:8080/"
        },
        "id": "X9SfJMEg-CW3",
        "outputId": "ce1d7ab9-602b-4aa5-f755-d930f26e4add"
      },
      "outputs": [
        {
          "output_type": "stream",
          "name": "stdout",
          "text": [
            " 82.6% of users who visited but didn't add anything to their cart \n",
            " 35.06% of users who added to their cart but didn't checkout \n",
            " 24.55% of users checked out but didn't make a purchase \n",
            "\n"
          ]
        }
      ],
      "source": [
        "funnel_1 = (\" {}% of users who visited but didn't add anything to their cart \\n\".format(round(visit_no_cart*100,2)))\n",
        "funnel_2 = (\"{}% of users who added to their cart but didn't checkout \\n\".format(round(cart_no_checkout*100,2)))\n",
        "funnel_3 = (\"{}% of users checked out but didn't make a purchase \\n\".format(round(percent_no_purchase*100,2)))\n",
        "print(funnel_1,funnel_2,funnel_3)"
      ]
    },
    {
      "cell_type": "markdown",
      "metadata": {
        "id": "_EUbkQRY-CW3"
      },
      "source": [
        "*The weakest part of the funnel is clearly getting a person who visited the site to add a tshirt to their cart. Once they've added a t-shirt to their cart it is fairly likely they end up purchasing it. A suggestion could be to make the add-to-cart button more prominent on the front page.*\n",
        "\n",
        "\n",
        "Step 10: adding new column"
      ]
    },
    {
      "cell_type": "code",
      "execution_count": 56,
      "metadata": {
        "id": "UhblognQ-CW3"
      },
      "outputs": [],
      "source": [
        "all_df['purchase_vs_visit_time'] = all_df.purchase_time - all_df.visit_time"
      ]
    },
    {
      "cell_type": "markdown",
      "metadata": {
        "id": "lm6Xdg4i-CW3"
      },
      "source": [
        "Step 11: examine the results"
      ]
    },
    {
      "cell_type": "code",
      "execution_count": 57,
      "metadata": {
        "colab": {
          "base_uri": "https://localhost:8080/"
        },
        "id": "pOuy9AZc-CW4",
        "outputId": "482bdd37-4fd0-4d1c-a8e5-3f20609b337f"
      },
      "outputs": [
        {
          "output_type": "stream",
          "name": "stdout",
          "text": [
            "0     0 days 00:44:00\n",
            "1     0 days 00:38:00\n",
            "2     0 days 00:41:00\n",
            "3     0 days 01:00:00\n",
            "4     0 days 01:00:00\n",
            "            ...      \n",
            "247   0 days 00:29:00\n",
            "248   0 days 00:46:00\n",
            "249   0 days 00:32:00\n",
            "250   0 days 00:28:00\n",
            "251   0 days 00:11:00\n",
            "Name: purchase_vs_visit_time, Length: 252, dtype: timedelta64[ns]\n"
          ]
        }
      ],
      "source": [
        "print(all_df.purchase_vs_visit_time)"
      ]
    },
    {
      "cell_type": "markdown",
      "metadata": {
        "id": "HkWZunkA-CW4"
      },
      "source": [
        "Step 12: average time to purchase"
      ]
    },
    {
      "cell_type": "code",
      "execution_count": 59,
      "metadata": {
        "colab": {
          "base_uri": "https://localhost:8080/"
        },
        "id": "W_jmIfLQ-CW4",
        "outputId": "c4492542-d194-432b-f55e-6dbd17f17f24"
      },
      "outputs": [
        {
          "output_type": "stream",
          "name": "stdout",
          "text": [
            "0 days 00:43:12.380952380\n"
          ]
        }
      ],
      "source": [
        "print(all_df.purchase_vs_visit_time.mean())"
      ]
    },
    {
      "cell_type": "code",
      "execution_count": null,
      "metadata": {
        "id": "JCecfKbS-CW4"
      },
      "outputs": [],
      "source": []
    }
  ],
  "metadata": {
    "kernelspec": {
      "display_name": "Python 3",
      "language": "python",
      "name": "python3"
    },
    "language_info": {
      "codemirror_mode": {
        "name": "ipython",
        "version": 3
      },
      "file_extension": ".py",
      "mimetype": "text/x-python",
      "name": "python",
      "nbconvert_exporter": "python",
      "pygments_lexer": "ipython3",
      "version": "3.8.5"
    },
    "colab": {
      "provenance": [],
      "include_colab_link": true
    }
  },
  "nbformat": 4,
  "nbformat_minor": 0
}